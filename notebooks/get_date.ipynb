{
 "cells": [
  {
   "cell_type": "code",
   "execution_count": 1,
   "metadata": {},
   "outputs": [],
   "source": [
    "import os\n",
    "from simplecube import cube_query, simple_cube, cube_get_data"
   ]
  },
  {
   "cell_type": "code",
   "execution_count": 2,
   "metadata": {},
   "outputs": [],
   "source": [
    "path_dir = os.path.abspath(\"\")"
   ]
  },
  {
   "cell_type": "code",
   "execution_count": 3,
   "metadata": {},
   "outputs": [],
   "source": [
    "#datacube=cube_query(\n",
    "#    collection=\"S2_L2A-1\",\n",
    "#    start_date=\"2019-06-01\",\n",
    "#    end_date=\"2020-05-31\",    \n",
    "#    tile=\"22JET\",\n",
    "#    bands=[\"B02\",\"B08\",\"SCL\"]\n",
    "#)"
   ]
  },
  {
   "cell_type": "code",
   "execution_count": 4,
   "metadata": {},
   "outputs": [],
   "source": [
    "datacube=cube_query(\n",
    "    collection=\"AMZ1-WFI-L4-SR-1\",\n",
    "    start_date=\"2024-06-01\",\n",
    "    end_date=\"2025-05-31\",    \n",
    "    bbox=\"-52.4048,-24.6221,-51.8005,-24.2169\",\n",
    "    bands=[\"BAND3\",\"BAND4\",\"CMASK\"]\n",
    ")"
   ]
  },
  {
   "cell_type": "code",
   "execution_count": 5,
   "metadata": {},
   "outputs": [],
   "source": [
    "#cube_get_data(datacube)"
   ]
  },
  {
   "cell_type": "code",
   "execution_count": 6,
   "metadata": {},
   "outputs": [],
   "source": [
    "#cube = simple_cube(\n",
    "#    data_dir=os.path.join(path_dir),\n",
    "#    datacube=datacube,\n",
    "#    band=\"B02\",\n",
    "#    source='esa'\n",
    "#)\n",
    "\n",
    "#cube"
   ]
  },
  {
   "cell_type": "code",
   "execution_count": 7,
   "metadata": {},
   "outputs": [],
   "source": [
    "cube = simple_cube(\n",
    "    data_dir=os.path.join(path_dir),\n",
    "    datacube=datacube,\n",
    "    band=\"BAND3\",\n",
    "    source='bdc-amz'\n",
    ")\n",
    "\n",
    "cube"
   ]
  },
  {
   "cell_type": "code",
   "execution_count": null,
   "metadata": {},
   "outputs": [],
   "source": [
    "cube_2d = cube['band_data'].sel(time='2020-04-22')\n",
    "\n",
    "cube_2d.plot()"
   ]
  }
 ],
 "metadata": {
  "kernelspec": {
   "display_name": "Python 3",
   "language": "python",
   "name": "python3"
  },
  "language_info": {
   "codemirror_mode": {
    "name": "ipython",
    "version": 3
   },
   "file_extension": ".py",
   "mimetype": "text/x-python",
   "name": "python",
   "nbconvert_exporter": "python",
   "pygments_lexer": "ipython3",
   "version": "3.10.12"
  }
 },
 "nbformat": 4,
 "nbformat_minor": 2
}
