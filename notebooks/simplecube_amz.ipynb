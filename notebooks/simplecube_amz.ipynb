{
 "cells": [
  {
   "cell_type": "code",
   "execution_count": null,
   "metadata": {},
   "outputs": [],
   "source": [
    "import os\n",
    "from simplecube import simple_cube"
   ]
  },
  {
   "cell_type": "code",
   "execution_count": null,
   "metadata": {},
   "outputs": [],
   "source": [
    "path_dir = os.path.abspath(\"\")"
   ]
  },
  {
   "cell_type": "code",
   "execution_count": null,
   "metadata": {},
   "outputs": [],
   "source": [
    "AMZ_NIR_cube=simple_cube(\n",
    "    data_dir=os.path.join(path_dir),\n",
    "    collection=\"AMZ1-WFI-L4-SR-1\",\n",
    "    start_date=\"2025-01-01\",\n",
    "    end_date=\"2025-05-31\",    \n",
    "    bbox=\"-52.7371,-24.3884,-51.6687,-23.7841\",\n",
    "    bands=[\"BAND4\"]\n",
    ")\n",
    "\n",
    "AMZ_NIR_cube"
   ]
  }
 ],
 "metadata": {
  "kernelspec": {
   "display_name": "Python 3",
   "language": "python",
   "name": "python3"
  },
  "language_info": {
   "codemirror_mode": {
    "name": "ipython",
    "version": 3
   },
   "file_extension": ".py",
   "mimetype": "text/x-python",
   "name": "python",
   "nbconvert_exporter": "python",
   "pygments_lexer": "ipython3",
   "version": "3.10.12"
  }
 },
 "nbformat": 4,
 "nbformat_minor": 2
}
